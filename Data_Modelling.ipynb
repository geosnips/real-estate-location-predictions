{
 "cells": [
  {
   "cell_type": "markdown",
   "metadata": {
    "id": "CmKU95dWlboY"
   },
   "source": [
    "# **Data Modelling**\n",
    "\n",
    "Once we clean the data and have a breif exploratory analysis on the data we will now model it to get the right inferences. Our goal was to find the location of properties which suitable for real estate investment and which will give us high return in the future.\n",
    "\n",
    "Any real estate property cannot alone withstand based on the features it provides like 2 bedrooms , 3 bathrooms but the accessibility of that location with nearby amenities.\n",
    "\n",
    "Hence we will consider such amenities in our modeling to find out the best locations for purchasing a real estate property. The amenities are as follows: \n",
    "\n",
    "*   Groceries\n",
    "*   Restaurants\n",
    "*   Hospitals\n",
    "*   Bars\n",
    "*   Fuel stations\n",
    "*   Public_transport\n",
    "*   Parks\n",
    "*   Schools\n",
    "\n",
    "The shortest distance from nearby amenities will be calculated and added to the data."
   ]
  },
  {
   "cell_type": "markdown",
   "metadata": {
    "id": "-30veSMSWLmE"
   },
   "source": [
    "##### **Install and Import Libraries**"
   ]
  },
  {
   "cell_type": "code",
   "execution_count": null,
   "metadata": {
    "id": "XSeihvaYulTN"
   },
   "outputs": [],
   "source": [
    "#Install libraries\n",
    "!apt install python3-rtree --quiet\n",
    "!pip install osmnx\n",
    "!pip install geopandas"
   ]
  },
  {
   "cell_type": "code",
   "execution_count": null,
   "metadata": {
    "id": "SF0ef-hVucB9"
   },
   "outputs": [],
   "source": [
    "#Import libraries\n",
    "import pandas as pd\n",
    "import geopandas as gpd\n",
    "import matplotlib.pyplot as plt\n",
    "import osmnx as ox\n",
    "ox.config(log_console=True, use_cache=True)\n",
    "import folium\n",
    "from shapely.geometry import box"
   ]
  },
  {
   "cell_type": "markdown",
   "metadata": {
    "id": "jtNQ2m3huDNt"
   },
   "source": [
    "##### **Read sample data as spatial data**"
   ]
  },
  {
   "cell_type": "code",
   "execution_count": null,
   "metadata": {
    "colab": {
     "base_uri": "https://localhost:8080/",
     "height": 462
    },
    "id": "j4vH1_q9gJLH",
    "outputId": "c3843646-db6b-4221-b3c1-30e47bb3ccf3"
   },
   "outputs": [
    {
     "data": {
      "text/html": [
       "<div>\n",
       "<style scoped>\n",
       "    .dataframe tbody tr th:only-of-type {\n",
       "        vertical-align: middle;\n",
       "    }\n",
       "\n",
       "    .dataframe tbody tr th {\n",
       "        vertical-align: top;\n",
       "    }\n",
       "\n",
       "    .dataframe thead th {\n",
       "        text-align: right;\n",
       "    }\n",
       "</style>\n",
       "<table border=\"1\" class=\"dataframe\">\n",
       "  <thead>\n",
       "    <tr style=\"text-align: right;\">\n",
       "      <th></th>\n",
       "      <th>SALE TYPE</th>\n",
       "      <th>PROPERTY TYPE</th>\n",
       "      <th>ADDRESS</th>\n",
       "      <th>CITY</th>\n",
       "      <th>STATE OR PROVINCE</th>\n",
       "      <th>ZIP OR POSTAL CODE</th>\n",
       "      <th>PRICE</th>\n",
       "      <th>BEDS</th>\n",
       "      <th>BATHS</th>\n",
       "      <th>LOCATION</th>\n",
       "      <th>SQUARE FEET</th>\n",
       "      <th>LOT SIZE</th>\n",
       "      <th>YEAR BUILT</th>\n",
       "      <th>DAYS ON MARKET</th>\n",
       "      <th>DOLLAR PER SQFT</th>\n",
       "      <th>HOA PER MONTH</th>\n",
       "      <th>STATUS</th>\n",
       "      <th>URL</th>\n",
       "      <th>SOURCE</th>\n",
       "      <th>MSL</th>\n",
       "      <th>LATITUDE</th>\n",
       "      <th>LONGITUDE</th>\n",
       "      <th>geometry</th>\n",
       "    </tr>\n",
       "  </thead>\n",
       "  <tbody>\n",
       "    <tr>\n",
       "      <th>0</th>\n",
       "      <td>MLS Listing</td>\n",
       "      <td>Townhouse</td>\n",
       "      <td>6813 NW 163rd Ave</td>\n",
       "      <td>Portland</td>\n",
       "      <td>OR</td>\n",
       "      <td>97229</td>\n",
       "      <td>535000</td>\n",
       "      <td>4</td>\n",
       "      <td>2.5</td>\n",
       "      <td>Arbor Lakes</td>\n",
       "      <td>1922</td>\n",
       "      <td>2613</td>\n",
       "      <td>2014</td>\n",
       "      <td>2</td>\n",
       "      <td>278</td>\n",
       "      <td>212</td>\n",
       "      <td>Active</td>\n",
       "      <td>http://www.redfin.com/OR/Portland/6813-NW-163r...</td>\n",
       "      <td>RMLS</td>\n",
       "      <td>21056418</td>\n",
       "      <td>45.568689</td>\n",
       "      <td>-122.845517</td>\n",
       "      <td>POINT (-122.84552 45.56869)</td>\n",
       "    </tr>\n",
       "    <tr>\n",
       "      <th>1</th>\n",
       "      <td>PAST SALE</td>\n",
       "      <td>Single Family Residential</td>\n",
       "      <td>2525 NW Arnott Ln</td>\n",
       "      <td>Portland</td>\n",
       "      <td>OR</td>\n",
       "      <td>97229</td>\n",
       "      <td>629900</td>\n",
       "      <td>4</td>\n",
       "      <td>2.5</td>\n",
       "      <td>IRON RIDGE PARK</td>\n",
       "      <td>2324</td>\n",
       "      <td>4791</td>\n",
       "      <td>2011</td>\n",
       "      <td>318</td>\n",
       "      <td>271</td>\n",
       "      <td>30</td>\n",
       "      <td>Sold</td>\n",
       "      <td>http://www.redfin.com/OR/Portland/2525-NW-Arno...</td>\n",
       "      <td>RMLS</td>\n",
       "      <td>20264930</td>\n",
       "      <td>45.537885</td>\n",
       "      <td>-122.795329</td>\n",
       "      <td>POINT (-122.79533 45.53789)</td>\n",
       "    </tr>\n",
       "    <tr>\n",
       "      <th>2</th>\n",
       "      <td>PAST SALE</td>\n",
       "      <td>Single Family Residential</td>\n",
       "      <td>4561 NW Continental Pl</td>\n",
       "      <td>Beaverton</td>\n",
       "      <td>OR</td>\n",
       "      <td>97006</td>\n",
       "      <td>450000</td>\n",
       "      <td>3</td>\n",
       "      <td>2.5</td>\n",
       "      <td>NW Washington Co or Sauvie Island</td>\n",
       "      <td>1518</td>\n",
       "      <td>2613</td>\n",
       "      <td>2000</td>\n",
       "      <td>183</td>\n",
       "      <td>296</td>\n",
       "      <td>75</td>\n",
       "      <td>Sold</td>\n",
       "      <td>http://www.redfin.com/OR/Beaverton/4561-NW-Con...</td>\n",
       "      <td>RMLS</td>\n",
       "      <td>21067322</td>\n",
       "      <td>45.552849</td>\n",
       "      <td>-122.850795</td>\n",
       "      <td>POINT (-122.85079 45.55285)</td>\n",
       "    </tr>\n",
       "    <tr>\n",
       "      <th>3</th>\n",
       "      <td>PAST SALE</td>\n",
       "      <td>Single Family Residential</td>\n",
       "      <td>1123 NW 93rd Ave</td>\n",
       "      <td>Portland</td>\n",
       "      <td>OR</td>\n",
       "      <td>97229</td>\n",
       "      <td>490000</td>\n",
       "      <td>4</td>\n",
       "      <td>2.5</td>\n",
       "      <td>NW Washington Co or Sauvie Island</td>\n",
       "      <td>1853</td>\n",
       "      <td>3049</td>\n",
       "      <td>2011</td>\n",
       "      <td>1534</td>\n",
       "      <td>264</td>\n",
       "      <td>48</td>\n",
       "      <td>Sold</td>\n",
       "      <td>http://www.redfin.com/OR/Portland/1123-NW-93rd...</td>\n",
       "      <td>RMLS</td>\n",
       "      <td>17684940</td>\n",
       "      <td>45.527355</td>\n",
       "      <td>-122.773088</td>\n",
       "      <td>POINT (-122.77309 45.52736)</td>\n",
       "    </tr>\n",
       "    <tr>\n",
       "      <th>4</th>\n",
       "      <td>PAST SALE</td>\n",
       "      <td>Single Family Residential</td>\n",
       "      <td>12781 NW Forest Spring Ln</td>\n",
       "      <td>Portland</td>\n",
       "      <td>OR</td>\n",
       "      <td>97229</td>\n",
       "      <td>590000</td>\n",
       "      <td>4</td>\n",
       "      <td>2.5</td>\n",
       "      <td>BAUER HIGHLANDS</td>\n",
       "      <td>2416</td>\n",
       "      <td>4356</td>\n",
       "      <td>2001</td>\n",
       "      <td>1123</td>\n",
       "      <td>244</td>\n",
       "      <td>20</td>\n",
       "      <td>Sold</td>\n",
       "      <td>http://www.redfin.com/OR/Portland/12781-NW-For...</td>\n",
       "      <td>RMLS</td>\n",
       "      <td>18208993</td>\n",
       "      <td>45.550917</td>\n",
       "      <td>-122.808786</td>\n",
       "      <td>POINT (-122.80879 45.55092)</td>\n",
       "    </tr>\n",
       "  </tbody>\n",
       "</table>\n",
       "</div>"
      ],
      "text/plain": [
       "     SALE TYPE  ...                     geometry\n",
       "0  MLS Listing  ...  POINT (-122.84552 45.56869)\n",
       "1    PAST SALE  ...  POINT (-122.79533 45.53789)\n",
       "2    PAST SALE  ...  POINT (-122.85079 45.55285)\n",
       "3    PAST SALE  ...  POINT (-122.77309 45.52736)\n",
       "4    PAST SALE  ...  POINT (-122.80879 45.55092)\n",
       "\n",
       "[5 rows x 23 columns]"
      ]
     },
     "execution_count": 2,
     "metadata": {},
     "output_type": "execute_result"
    }
   ],
   "source": [
    "sample_df = pd.read_csv('content/sample_houses.csv')\n",
    "sample_gdf = gpd.GeoDataFrame(sample_df,crs='epsg:4326', geometry=gpd.points_from_xy(x=sample_df.LONGITUDE, y=sample_df.LATITUDE)) \n",
    "sample_gdf.head(5)"
   ]
  },
  {
   "cell_type": "markdown",
   "metadata": {
    "id": "CbIDgDV4vM6k"
   },
   "source": [
    "##### **Add columns**\n",
    "Create columns for adding distance from amenities"
   ]
  },
  {
   "cell_type": "code",
   "execution_count": null,
   "metadata": {
    "id": "9itzkXzBvLRT"
   },
   "outputs": [],
   "source": [
    "sample_gdf['Groceries'] = ''\n",
    "sample_gdf['Restaurants']  = ''\n",
    "sample_gdf['Hospitals'] = ''\n",
    "sample_gdf['Bars'] = ''\n",
    "sample_gdf['Fuel stations'] = ''\n",
    "sample_gdf['Public_transport'] = ''\n",
    "sample_gdf['Parks'] = ''\n",
    "sample_gdf['Schools'] = ''"
   ]
  },
  {
   "cell_type": "markdown",
   "metadata": {
    "id": "n6-NLNp1wH7Q"
   },
   "source": [
    "##### **Fetch all nearby amenities** \n"
   ]
  },
  {
   "cell_type": "code",
   "execution_count": null,
   "metadata": {
    "id": "PWjcy9eVL6xO"
   },
   "outputs": [],
   "source": [
    "#Intiate the columns with 0 value\n",
    "sample_gdf['Groceries'] = 0\n",
    "sample_gdf['Restaurants']  = 0\n",
    "sample_gdf['Hospitals'] = 0\n",
    "sample_gdf['Bars'] = 0\n",
    "sample_gdf['Fuel stations'] = 0\n",
    "sample_gdf['Public_transport'] = 0\n",
    "sample_gdf['Parks'] = 0\n",
    "sample_gdf['Schools'] = 0"
   ]
  },
  {
   "cell_type": "code",
   "execution_count": null,
   "metadata": {
    "id": "j9g0VdZV86Ps"
   },
   "outputs": [],
   "source": [
    "%%time\n",
    "\n",
    "# get bounding box of the data and then find a centroid for that geometry\n",
    "xmin, ymin, xmax, ymax = sample_gdf.total_bounds\n",
    "geom = box(xmin, ymin, xmax, ymax)\n",
    "\n",
    "# Put the centroid as input and have 50000 metres i.e 50km and extract all data defined in tags\n",
    "tags = { \"highway\": \"bus_stop\",\"leisure\": [\"garden\",\"park\"], \"amenity\": [\"bar\", \"restaurant\",\"school\", \"fuel\", \"hospital\",\"marketplace\"],\"shop\":\"supermarket\"}\n",
    "osm_geoms = ox.geometries_from_point((geom.centroid.y,geom.centroid.x), tags, dist=50000) #distance is specified as 50000metres i.e 50km\n",
    "\n",
    "# Reprject the layers so that we can create buffer along the point and the same projection would be there while applying intersection operations\n",
    "osm_geoms = osm_geoms.to_crs('epsg:3857')\n",
    "sample_gdf = sample_gdf.to_crs('epsg:3857')\n",
    "\n",
    "for idx,rows in sample_gdf.iterrows():\n",
    "  cur_point = rows['geometry'].buffer(10000) # create buffer of 10km as it would take a car 15mins to cover a distance of 10km at the average speed of 40km/hr\n",
    "\n",
    "  # Now we will query specific tags and intersect it with the buffer of the house coordinate to get all nearby amenities\n",
    "  transport_gdf = osm_geoms.query('highway == \"bus_stop\"')\n",
    "  transport_gdf = transport_gdf.query('highway == \"bus_stop\"')[transport_gdf.query('highway == \"bus_stop\"').intersects(cur_point)]\n",
    "  sample_gdf.at[idx,'Public_transport'] = transport_gdf.shape[0]\n",
    "\n",
    "  park_gdf = osm_geoms.query('leisure == \"garden\" | leisure == \"park\" ')\n",
    "  park_gdf = park_gdf.query('leisure == \"garden\" | leisure == \"park\" ')[park_gdf.query('leisure == \"garden\" | leisure == \"park\" ').intersects(cur_point)]\n",
    "  sample_gdf.at[idx,'Parks'] = park_gdf.shape[0]\n",
    "\n",
    "  bars_gdf = osm_geoms.query('amenity == \"bar\"')\n",
    "  bars_gdf = bars_gdf.query('amenity == \"bar\"')[bars_gdf.query('amenity == \"bar\"').intersects(cur_point)]\n",
    "  sample_gdf.at[idx,'Bars'] = bars_gdf.shape[0] \n",
    "\n",
    "  restaurant_gdf = osm_geoms.query('amenity == \"restaurant\"')\n",
    "  restaurant_gdf = restaurant_gdf.query('amenity == \"restaurant\"')[restaurant_gdf.query('amenity == \"restaurant\"').intersects(cur_point)]\n",
    "  sample_gdf.at[idx,'Restaurants'] = restaurant_gdf.shape[0]\n",
    "\n",
    "  school_gdf = osm_geoms.query('amenity == \"school\"')\n",
    "  school_gdf = school_gdf.query('amenity == \"school\"')[school_gdf.query('amenity == \"school\"').intersects(cur_point)]\n",
    "  sample_gdf.at[idx,'Schools'] = school_gdf.shape[0]\n",
    "\n",
    "  fuel_gdf = osm_geoms.query('amenity == \"fuel\"')\n",
    "  fuel_gdf = fuel_gdf.query('amenity == \"fuel\"')[fuel_gdf.query('amenity == \"fuel\"').intersects(cur_point)]\n",
    "  sample_gdf.at[idx,'Fuel stations'] = fuel_gdf.shape[0]\n",
    "\n",
    "  hospital_gdf = osm_geoms.query('amenity == \"hospital\"')\n",
    "  hospital_gdf = hospital_gdf.query('amenity == \"hospital\"')[hospital_gdf.query('amenity == \"hospital\"').intersects(cur_point)]\n",
    "  sample_gdf.at[idx,'Hospitals'] = hospital_gdf.shape[0]\n",
    "\n",
    "  marketplace_gdf = osm_geoms.query('amenity == \"marketplace\" | shop == \"supermarket\"')\n",
    "  marketplace_gdf = marketplace_gdf.query('amenity == \"marketplace\" | shop == \"supermarket\"')[marketplace_gdf.query('amenity == \"marketplace\" | shop == \"supermarket\"').intersects(cur_point)]\n",
    "  sample_gdf.at[idx,'Groceries'] = marketplace_gdf.shape[0]\n",
    "\n",
    "  print('index being processed is ',idx)"
   ]
  },
  {
   "cell_type": "markdown",
   "metadata": {
    "id": "TVQyP1_yH-y5"
   },
   "source": [
    "##### **Visualize the quantitative data**\n",
    "\n",
    "Let's have a look on the histogram of the data we extracted"
   ]
  },
  {
   "cell_type": "code",
   "execution_count": null,
   "metadata": {
    "colab": {
     "base_uri": "https://localhost:8080/",
     "height": 518
    },
    "id": "2oVHgUR0vNcT",
    "outputId": "40ee9070-a0b9-46cc-b35c-77d0960ece9c"
   },
   "outputs": [
    {
     "name": "stderr",
     "output_type": "stream",
     "text": [
      "/usr/local/lib/python3.7/dist-packages/pandas/plotting/_matplotlib/tools.py:331: MatplotlibDeprecationWarning: \n",
      "The is_first_col function was deprecated in Matplotlib 3.4 and will be removed two minor releases later. Use ax.get_subplotspec().is_first_col() instead.\n",
      "  if ax.is_first_col():\n"
     ]
    },
    {
     "data": {
      "image/png": "[encoded data removed]",
      "text/plain": [
       "<Figure size 1080x1080 with 16 Axes>"
      ]
     },
     "metadata": {
      "needs_background": "light"
     },
     "output_type": "display_data"
    }
   ],
   "source": [
    "hist_plot = sample_gdf[['Groceries','Restaurants','Hospitals','Bars','Fuel stations','Public_transport','Parks','Schools']].hist(bins=25, layout=(4,4), figsize=(15,15))"
   ]
  },
  {
   "cell_type": "markdown",
   "metadata": {
    "id": "gxedAU9VIRXH"
   },
   "source": [
    "##### **Save to disk**"
   ]
  },
  {
   "cell_type": "code",
   "execution_count": null,
   "metadata": {
    "id": "2x_HvW-yIT-R"
   },
   "outputs": [],
   "source": [
    "sample_gdf.to_csv('houses_features.csv',index=False)\n",
    "sample_gdf.to_file('houses_features.geojson',driver='GeoJSON')"
   ]
  }
 ],
 "metadata": {
  "colab": {
   "name": "Kawa_Space_Assignment-part3.ipynb",
   "provenance": []
  },
  "kernelspec": {
   "display_name": "Python 3",
   "language": "python",
   "name": "python3"
  },
  "language_info": {
   "codemirror_mode": {
    "name": "ipython",
    "version": 3
   },
   "file_extension": ".py",
   "mimetype": "text/x-python",
   "name": "python",
   "nbconvert_exporter": "python",
   "pygments_lexer": "ipython3",
   "version": "3.8.5"
  }
 },
 "nbformat": 4,
 "nbformat_minor": 1
}
